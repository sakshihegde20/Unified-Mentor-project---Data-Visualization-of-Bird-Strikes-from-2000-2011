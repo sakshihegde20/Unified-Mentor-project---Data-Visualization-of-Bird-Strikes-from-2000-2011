{
 "cells": [
  {
   "cell_type": "code",
   "execution_count": 4,
   "id": "60b7b445",
   "metadata": {},
   "outputs": [],
   "source": [
    "import pandas as pd\n",
    "import numpy as np"
   ]
  },
  {
   "cell_type": "code",
   "execution_count": 5,
   "id": "bc3c5be8",
   "metadata": {},
   "outputs": [
    {
     "data": {
      "text/plain": [
       "Airport: Name                                 0\n",
       "Altitude bin                                  0\n",
       "Aircraft: Make/Model                          0\n",
       "Wildlife: Number struck                       0\n",
       "Wildlife: Number Struck Actual                0\n",
       "Effect: Impact to flight                      0\n",
       "FlightDate                                    0\n",
       "Effect: Indicated Damage                      0\n",
       "Aircraft: Number of engines?                226\n",
       "Aircraft: Airline/Operator                    0\n",
       "Origin State                                449\n",
       "When: Phase of flight                         0\n",
       "Conditions: Precipitation                     0\n",
       "Remains of wildlife collected?                0\n",
       "Remains of wildlife sent to Smithsonian       0\n",
       "Remarks                                    4761\n",
       "Wildlife: Size                                0\n",
       "Conditions: Sky                               0\n",
       "Wildlife: Species                             0\n",
       "Pilot warned of birds or wildlife?            0\n",
       "Cost: Total $                                 0\n",
       "Feet above ground                             0\n",
       "Number of people injured                      0\n",
       "Is Aircraft Large?                            0\n",
       "dtype: int64"
      ]
     },
     "execution_count": 5,
     "metadata": {},
     "output_type": "execute_result"
    }
   ],
   "source": [
    "URL = r\"D:\\UM internship\\Bird Strike\\birdstrike_ascflightdate2.csv\"\n",
    "\n",
    "birdstrike_asc = pd.read_csv(URL)\n"
   ]
  },
  {
   "cell_type": "code",
   "execution_count": 15,
   "id": "881720c0",
   "metadata": {},
   "outputs": [],
   "source": [
    "birdstrike_asc = birdstrike_asc[birdstrike_asc['Wildlife: Species'] != 'American alligator']\n"
   ]
  },
  {
   "cell_type": "code",
   "execution_count": 19,
   "id": "afc6d0a4",
   "metadata": {},
   "outputs": [
    {
     "data": {
      "text/plain": [
       "(25427, 24)"
      ]
     },
     "execution_count": 19,
     "metadata": {},
     "output_type": "execute_result"
    }
   ],
   "source": [
    "birdstrike_asc.shape"
   ]
  },
  {
   "cell_type": "code",
   "execution_count": 20,
   "id": "cd06102b",
   "metadata": {},
   "outputs": [
    {
     "data": {
      "text/plain": [
       "array(['Canada goose', 'Unknown bird - small', 'Unknown bird - medium',\n",
       "       'Unknown bird - large', 'Great black-backed gull',\n",
       "       'Red-tailed hawk', 'Rock pigeon', 'Mourning dove', 'Osprey',\n",
       "       'Peregrine falcon', 'Mallard', 'Turkey vulture',\n",
       "       'White-winged dove', 'European starling', 'Snow goose',\n",
       "       'Common raven', 'Pacific golden-plover', 'Tree swallow',\n",
       "       'Black-headed munia', 'Western meadowlark', 'White-tailed deer',\n",
       "       'Ring-billed gull', 'American kestrel', 'Bald eagle',\n",
       "       'Sandhill crane', 'Short-eared owl', 'Eastern meadowlark',\n",
       "       'Upland sandpiper', 'Meadowlarks', 'Tundra swan',\n",
       "       \"Bonaparte's gull\", 'Ring-necked pheasant', 'Northern harrier',\n",
       "       'Unknown bird or bat', 'Barn owl', 'Killdeer', 'Western sandpiper',\n",
       "       'Blackbirds', 'Savannah sparrow', 'Wild turkey', 'Ruddy duck',\n",
       "       'Lapland longspur', 'Herring gull', 'Common nighthawk',\n",
       "       'Cape May warbler', 'Coyote', 'American robin', 'American crow',\n",
       "       'Cliff swallow', 'Common myna', 'Red fox', 'Brown pelican',\n",
       "       'Red-winged blackbird', \"Swainson's hawk\", 'Barn swallow',\n",
       "       'Finches', 'Great blue heron', 'Cattle egret', 'Northern bobwhite',\n",
       "       'Scissor-tailed flycatcher', 'Brown-headed cowbird',\n",
       "       'Purple martin', 'Woodchuck', 'American coot',\n",
       "       'Semipalmated plover', 'Buff-breasted sandpiper', 'Western gull',\n",
       "       \"Wilson's snipe\", 'Horned lark', 'Mute swan',\n",
       "       'Common yellowthroat', 'Double-crested cormorant', 'Brant',\n",
       "       'American pipit', 'Great horned owl', 'Northern saw-whet owl',\n",
       "       'Snowy owl', 'Snow bunting', 'Gadwall', 'Pied-billed grebe',\n",
       "       'Black vulture', 'Northern shoveler', 'Zebra dove', 'Common loon',\n",
       "       'Mottled duck', 'Boat-tailed grackle', 'House sparrow', 'Willet',\n",
       "       'Redhead', 'Laughing gull', 'Pigeons', 'Raccoon', 'Spotted dove',\n",
       "       'Bank swallow', 'Black-capped chickadee', 'Great-tailed grackle',\n",
       "       'Burrowing owl', 'Striped skunk', 'Mule deer',\n",
       "       'Black-bellied plover', 'European golden-plover', 'Least tern',\n",
       "       'Common grackle', 'Great cormorant', 'Muscovy duck',\n",
       "       'Cedar waxwing', 'Greater white-fronted goose', 'Hairy woodpecker',\n",
       "       'Rough-legged hawk', 'American woodcock', 'Red-vented bulbul',\n",
       "       'Northern mockingbird', 'Great egret', 'Chimney swift',\n",
       "       'Acadian flycatcher', 'Least sandpiper', 'Whimbrel',\n",
       "       \"Franklin's gull\", 'Red-legged kittiwake',\n",
       "       'Semipalmated sandpiper', 'Brown noddy', 'Scarlet tanager',\n",
       "       'Virginia opossum', 'Wood duck', 'Snowy egret', 'Northern pintail',\n",
       "       'White-tailed kite', 'Dunlin', 'American golden-plover',\n",
       "       'Lesser scaup', 'American wigeon', 'Laysan albatross',\n",
       "       'Bonin petrel', 'American black duck', 'Red-breasted merganser',\n",
       "       'Black-tailed jackrabbit', 'California gull',\n",
       "       'Violet-green swallow', 'Yellow-billed magpie', 'Domestic cat',\n",
       "       'Common ground-dove', 'Anhinga', 'Western tanager', 'Merlin',\n",
       "       'Snowy plover', 'Caspian tern', 'Gray francolin',\n",
       "       'Dark-eyed junco', 'Western bluebird', \"Swainson's thrush\",\n",
       "       'Greater scaup', 'Northwestern crow', 'Chukar', 'Sanderling',\n",
       "       \"Cooper's hawk\", 'Nutmeg mannikin', 'Black-billed magpie',\n",
       "       'Northern rough-winged swallow', 'Prairie dog', 'Red avadavat',\n",
       "       'Nashville warbler', 'White-throated munia', 'Blue jay',\n",
       "       'Broad-winged hawk', \"Baird's sandpiper\", 'Fairy tern',\n",
       "       'White-throated sparrow', 'Ptarmigans', 'Great frigatebird',\n",
       "       'Glaucous-winged gull', 'Canvasback', 'Wood stork', 'Barred owl',\n",
       "       'Red-shouldered hawk', 'Red-naped sapsucker',\n",
       "       'Yellow-bellied sapsucker', 'Fox sparrow', 'Long-billed dowitcher',\n",
       "       'American white pelican', 'Eastern kingbird', 'Western kingbird',\n",
       "       'Greater sage-grouse', 'Black-crowned night-heron',\n",
       "       \"Thayer's gull\", 'Domestic dog', 'American bittern',\n",
       "       'Prairie falcon', 'Gray partridge', 'House finch',\n",
       "       'Belted kingfisher', 'Crested caracara', 'Mew gull',\n",
       "       'Common goldeneye', 'Hermit thrush', 'Lark bunting',\n",
       "       'Pectoral sandpiper', 'Black-bellied whistling-duck',\n",
       "       \"Gunnison's prairie dog\", 'Short-billed dowitcher',\n",
       "       'Eastern phoebe', 'White tern', \"Vaux's swift\", 'Parrots',\n",
       "       'Green-winged teal', 'Common tern', 'Blackpoll warbler',\n",
       "       'Blue-winged teal', 'Yellow warbler', 'Golden-crowned kinglet',\n",
       "       'Yellow-rumped warbler', 'Black-footed albatross',\n",
       "       'Northern cardinal', 'Brown thrasher',\n",
       "       'Chestnut-collared longspur', 'Mountain chickadee', 'Bufflehead',\n",
       "       'Varied thrush', 'Orchard oriole', 'Chipping sparrow',\n",
       "       \"Wilson's warbler\", 'Common waxbill', 'Yellow-legged gull',\n",
       "       'Northern flicker', 'Pine warbler', 'Gray-headed chickadee',\n",
       "       'Brazilian free-tailed bat', 'Western grebe', 'Hawks',\n",
       "       'Whooping crane', 'Java sparrow', 'American tree sparrow',\n",
       "       'American goldfinch', 'Grasshopper sparrow', 'Sage sparrow',\n",
       "       'Sparrows', 'Vesper sparrow', 'Red knot', \"Lincoln's sparrow\",\n",
       "       'Trumpeter swan', 'Red-throated loon', 'Field sparrow',\n",
       "       'White-throated swift', 'Song sparrow', 'Sky lark',\n",
       "       'Yellow bittern', 'Black-throated blue warbler', 'Green heron',\n",
       "       'Glaucous gull', 'Gray catbird', 'Black-necked stilt',\n",
       "       'Ferruginous hawk', 'Golden-crowned sparrow', 'Pine siskin',\n",
       "       'Ring-necked duck', 'Bohemian waxwing', 'Long-tailed duck',\n",
       "       'Common merganser', \"Brewer's blackbird\", \"Anna's hummingbird\",\n",
       "       'Mountain bluebird', 'Yellow-crowned night-heron',\n",
       "       'American avocet', 'Greater yellowlegs', 'White-faced ibis',\n",
       "       'Northern parula', 'California towhee', 'Cinnamon teal',\n",
       "       'Armadillo', 'Tropical mockingbird', 'Black francolin',\n",
       "       'Ruddy turnstone', 'Cave swallow', 'Little brown bat',\n",
       "       \"Chuck-will's-widow\", 'Ruby-crowned kinglet',\n",
       "       'Gray-cheeked thrush', 'Carolina chickadee', 'House wren',\n",
       "       'Swamp sparrow', 'Red-crested cardinal', 'Palm warbler',\n",
       "       'White-crowned sparrow', 'Grackles', 'Perching birds (y)',\n",
       "       'Rock sandpiper', 'Piping plover', 'Lesser goldfinch', 'Swallows',\n",
       "       'Ovenbird', 'Rose-breasted grosbeak', 'Gulls', 'Plovers',\n",
       "       'Wood warblers', 'Doves', 'Northern waterthrush', 'Owls', 'Ducks',\n",
       "       'Bobolink', 'Egrets', 'Sandpipers', 'Lark sparrow',\n",
       "       'Loggerhead shrike', 'Golden eagle', 'Ruby-throated hummingbird',\n",
       "       \"Wilson's phalarope\", 'Veery', 'Red-eyed vireo', \"Cassin's vireo\",\n",
       "       'Yellow-headed blackbird', 'Silver-haired bat', 'Pigeons, doves',\n",
       "       'Indigo bunting', 'Purple finch', 'New World Vultures',\n",
       "       'American redstart', \"Nelson's sharp-tailed sparrow\",\n",
       "       'Japanese white-eye', 'Northern hawk owl', \"McKay's bunting\",\n",
       "       'White-tailed jackrabbit', 'Sharp-shinned hawk', 'Gray flycatcher',\n",
       "       'Orange-crowned warbler', 'Baltimore oriole',\n",
       "       'Yellow-billed cuckoo', 'Long-tailed jaeger',\n",
       "       'Blackburnian warbler', 'Pacific-slope flycatcher',\n",
       "       'Spotted sandpiper', 'Sooty tern', 'Least bittern',\n",
       "       'Big brown bat', 'Hawks, eagles, vultures', 'Bushtit',\n",
       "       \"Wilson's plover\", 'Canada warbler', 'Sora',\n",
       "       'Black-throated green warbler', 'Yellow-breasted chat',\n",
       "       'Common poorwill', 'Eastern towhee', 'Pine grosbeak', 'Geese',\n",
       "       'Horned grebe'], dtype=object)"
      ]
     },
     "execution_count": 20,
     "metadata": {},
     "output_type": "execute_result"
    }
   ],
   "source": [
    "birdstrike_asc['Wildlife: Species'].unique()"
   ]
  },
  {
   "cell_type": "code",
   "execution_count": 22,
   "id": "690a03cf",
   "metadata": {},
   "outputs": [],
   "source": [
    "# List of non-bird species\n",
    "non_birds = [\n",
    "    'White-tailed deer', 'Coyote', 'Red fox', 'Woodchuck', 'Raccoon', 'Striped skunk', 'Mule deer', 'Domestic cat',\n",
    "    'Prairie dog', 'Virginia opossum', 'Domestic dog', 'Black-tailed jackrabbit', 'Armadillo', 'Little brown bat',\n",
    "    'Brazilian free-tailed bat', 'Silver-haired bat', 'White-tailed jackrabbit', 'Big brown bat', 'New World Vultures',\n",
    "    'White-throated jackrabbit'\n",
    "]\n",
    "\n",
    "# Filter out non-bird species\n",
    "birdstrike_asc = birdstrike_asc[~birdstrike_asc['Wildlife: Species'].isin(non_birds)]\n"
   ]
  },
  {
   "cell_type": "code",
   "execution_count": 25,
   "id": "8097520a",
   "metadata": {
    "scrolled": true
   },
   "outputs": [
    {
     "data": {
      "text/plain": [
       "(25203, 24)"
      ]
     },
     "execution_count": 25,
     "metadata": {},
     "output_type": "execute_result"
    }
   ],
   "source": [
    "birdstrike_asc.shape"
   ]
  },
  {
   "cell_type": "code",
   "execution_count": 27,
   "id": "7b7a2fe1",
   "metadata": {},
   "outputs": [],
   "source": [
    "birdstrike_asc.to_csv(r'D:\\UM internship\\Bird Strike\\birdstrike_filterspecies.csv')"
   ]
  },
  {
   "cell_type": "code",
   "execution_count": null,
   "id": "8b7a0eba",
   "metadata": {},
   "outputs": [],
   "source": []
  }
 ],
 "metadata": {
  "kernelspec": {
   "display_name": "Python 3 (ipykernel)",
   "language": "python",
   "name": "python3"
  },
  "language_info": {
   "codemirror_mode": {
    "name": "ipython",
    "version": 3
   },
   "file_extension": ".py",
   "mimetype": "text/x-python",
   "name": "python",
   "nbconvert_exporter": "python",
   "pygments_lexer": "ipython3",
   "version": "3.9.13"
  }
 },
 "nbformat": 4,
 "nbformat_minor": 5
}
